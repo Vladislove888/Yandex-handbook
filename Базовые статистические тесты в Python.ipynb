{
 "cells": [
  {
   "cell_type": "markdown",
   "id": "13247293",
   "metadata": {},
   "source": [
    "В этой и в следующих задачах мы используем набор данных с самыми популярными книгами на Amazon. Мы добавили в него несколько дополнительных переменных. CSV-файл доступен под названием “books_prep.csv”."
   ]
  },
  {
   "cell_type": "markdown",
   "id": "bd3fa351",
   "metadata": {},
   "source": [
    "### Выведите имя самого популярного писателя в наборе данных\n",
    "\n",
    "Чтобы решить задачу, используйте синтаксис уточнений к методу describe. Например, чтобы вывести среднее значение, мы можем использовать следующую инструкцию: df['col_name'].describe()['mean']"
   ]
  },
  {
   "cell_type": "code",
   "execution_count": 1,
   "id": "b2f80316",
   "metadata": {},
   "outputs": [
    {
     "name": "stdout",
     "output_type": "stream",
     "text": [
      "Jeff Kinney\n"
     ]
    }
   ],
   "source": [
    "import pandas as pd\n",
    "df = pd.read_csv('books_prep.csv')\n",
    "\n",
    "print(df['Author'].describe()['top'])"
   ]
  },
  {
   "cell_type": "markdown",
   "id": "54ab90db",
   "metadata": {},
   "source": [
    "###  Определите средние значения рейтинга для «дешёвых» и «дорогих» книг\n",
    "\n",
    "Попробуем исследовать этот набор данных. Мы создали переменную “Price (Above Average)”, которая содержит “Yes”, если цена книги больше средней, и “No”, если меньше.\n",
    "\n",
    "Мы предполагаем, что рейтинг книги не зависит от её стоимости. Давайте проверим эту гипотезу. Начнём с того, что выведем средние значения пользовательского рейтинга для каждой из групп.\n",
    "\n",
    "Вам необходимо загрузить набор данных и напечатать средний рейтинг для «дорогих» книг."
   ]
  },
  {
   "cell_type": "code",
   "execution_count": 2,
   "id": "79c6d375",
   "metadata": {},
   "outputs": [
    {
     "name": "stdout",
     "output_type": "stream",
     "text": [
      "4.560103626943008\n"
     ]
    }
   ],
   "source": [
    "yes_price = df[df['Price (Above Average)'] == 'Yes']\n",
    "\n",
    "print(yes_price['User Rating'].mean())"
   ]
  },
  {
   "cell_type": "markdown",
   "id": "62a8d3f9",
   "metadata": {},
   "source": [
    "**А теперь вам необходимо загрузить набор данных и напечатать средний рейтинг для «дешёвых» книг.**"
   ]
  },
  {
   "cell_type": "code",
   "execution_count": 3,
   "id": "1acd4451",
   "metadata": {},
   "outputs": [
    {
     "name": "stdout",
     "output_type": "stream",
     "text": [
      "4.649859943977591\n"
     ]
    }
   ],
   "source": [
    "no_price = df[df['Price (Above Average)'] == 'No']\n",
    "\n",
    "print(no_price['User Rating'].mean())"
   ]
  },
  {
   "cell_type": "markdown",
   "id": "d1624e62",
   "metadata": {},
   "source": [
    "### Проведите тест для определения равенства дисперсий. Выведите значение p-value.\n",
    "\n",
    "Прежде чем сравнивать средние нам необходимо сравнить дисперсии. Для этого мы можем использовать критерий Левене."
   ]
  },
  {
   "cell_type": "code",
   "execution_count": 4,
   "id": "cd02d1ca",
   "metadata": {},
   "outputs": [
    {
     "name": "stdout",
     "output_type": "stream",
     "text": [
      "0.10402083833234738\n"
     ]
    }
   ],
   "source": [
    "yes_d = yes_price['User Rating']\n",
    "no_d = no_price['User Rating']\n",
    "\n",
    "from scipy.stats import levene\n",
    "\n",
    "print(levene(yes_d, no_d).pvalue)"
   ]
  },
  {
   "cell_type": "markdown",
   "id": "05f56d10",
   "metadata": {},
   "source": [
    "p-value больше 0.05, значит мы не можем отвергнуть гипотезу о том, что дисперсии равны."
   ]
  },
  {
   "cell_type": "markdown",
   "id": "6a3e6bdf",
   "metadata": {},
   "source": [
    "### Проведите тест для определения равенства средних. Выведите значение p-value"
   ]
  },
  {
   "cell_type": "code",
   "execution_count": 5,
   "id": "facdf3f1",
   "metadata": {},
   "outputs": [
    {
     "name": "stdout",
     "output_type": "stream",
     "text": [
      "8.190934970309897e-06\n"
     ]
    }
   ],
   "source": [
    "from scipy.stats import ttest_ind\n",
    "\n",
    "print(ttest_ind(yes_d, no_d, equal_var=True).pvalue)"
   ]
  },
  {
   "cell_type": "markdown",
   "id": "41f27862",
   "metadata": {},
   "source": [
    "p-value меньше 0.05, отвергаем гипотезу о равенстве средних"
   ]
  },
  {
   "cell_type": "markdown",
   "id": "d9b0e020",
   "metadata": {},
   "source": [
    "### Проведите тест ANOVA. Выведите значение p-value\n",
    "Ещё в этом примере мы создали переменную “User Rating (Round)”, которая содержит округлённые до целого значения среднего пользовательского рейтинга. Мы предполагаем, что рейтинг книги для каждой из групп, — у нас получилось их три, — зависит от числа рецензий (на хорошие книги люди охотнее пишут рецензии). Давайте проверим эту гипотезу с помощью теста ANOVA.\n",
    "\n",
    "Вам необходимо загрузить набор данных и вывести только значение p-value"
   ]
  },
  {
   "cell_type": "code",
   "execution_count": 6,
   "id": "ae865307",
   "metadata": {},
   "outputs": [
    {
     "name": "stdout",
     "output_type": "stream",
     "text": [
      "0.2973862975123414\n"
     ]
    }
   ],
   "source": [
    "from scipy.stats import f_oneway\n",
    "\n",
    "r_3 = df[(df['User Rating (Round)'] == 3)]['Reviews']\n",
    "r_4 = df[(df['User Rating (Round)'] == 4)]['Reviews']\n",
    "r_5 = df[(df['User Rating (Round)'] == 5)]['Reviews']\n",
    "\n",
    "print(f_oneway(r_3, r_4, r_5).pvalue)"
   ]
  }
 ],
 "metadata": {
  "kernelspec": {
   "display_name": "Python 3 (ipykernel)",
   "language": "python",
   "name": "python3"
  },
  "language_info": {
   "codemirror_mode": {
    "name": "ipython",
    "version": 3
   },
   "file_extension": ".py",
   "mimetype": "text/x-python",
   "name": "python",
   "nbconvert_exporter": "python",
   "pygments_lexer": "ipython3",
   "version": "3.9.13"
  }
 },
 "nbformat": 4,
 "nbformat_minor": 5
}
