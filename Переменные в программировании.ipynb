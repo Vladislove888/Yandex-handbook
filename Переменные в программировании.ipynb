{
 "cells": [
  {
   "cell_type": "markdown",
   "id": "384074ae",
   "metadata": {},
   "source": [
    "Всемирный доклад ООН о счастье содержит данные об опросе людей в разных странах, в котором они оценивают свой общий уровень счастья, а также уровне удовлетворения в отдельных аспектах. Репрезентативные национальные выборки респондентов просят ответить на ряд вопросов по шкале от нуля до десяти, где десять — это лучшая из возможных жизней, а ноль — худшая. Ответы отдельных респондентов усредняются для получения общего для страны показателя. Попробуем исследовать данные за 2019 год, чтобы лучше понять их структуру. CSV-файл доступен под названием “2019.csv”.\n",
    "\n",
    "Некоторые переменные, доступные в данных:\n",
    "\n",
    "'Country or region' - название страны\n",
    "\n",
    "'Score' - Уровень индекса счастья\n",
    "\n",
    "'GDP per capita' - Уровень ВВП на душу населения"
   ]
  },
  {
   "cell_type": "markdown",
   "id": "7166875b",
   "metadata": {},
   "source": [
    "### Какое минимальное и максимальное значение индекса счастья в 2019 году?"
   ]
  },
  {
   "cell_type": "code",
   "execution_count": 1,
   "id": "4429bd47",
   "metadata": {},
   "outputs": [
    {
     "name": "stdout",
     "output_type": "stream",
     "text": [
      "7.769\n",
      "2.853\n"
     ]
    }
   ],
   "source": [
    "import pandas as pd\n",
    "data = pd.read_csv('2019.csv')\n",
    "\n",
    "print(data['Score'].max())\n",
    "print(data['Score'].min())"
   ]
  },
  {
   "cell_type": "markdown",
   "id": "89a96a0c",
   "metadata": {},
   "source": [
    "### Какой средний уровень счастья среди всех стран?"
   ]
  },
  {
   "cell_type": "code",
   "execution_count": 2,
   "id": "bef134ba",
   "metadata": {},
   "outputs": [
    {
     "name": "stdout",
     "output_type": "stream",
     "text": [
      "5.407096153846153\n"
     ]
    }
   ],
   "source": [
    "print(data['Score'].mean())"
   ]
  },
  {
   "cell_type": "markdown",
   "id": "00f35c60",
   "metadata": {},
   "source": [
    "### Каков медианный уровень счастья среди всех стран?"
   ]
  },
  {
   "cell_type": "code",
   "execution_count": 3,
   "id": "ad3a10c3",
   "metadata": {},
   "outputs": [
    {
     "name": "stdout",
     "output_type": "stream",
     "text": [
      "5.3795\n"
     ]
    }
   ],
   "source": [
    "print(data['Score'].median())"
   ]
  },
  {
   "cell_type": "markdown",
   "id": "7b4f5c7c",
   "metadata": {},
   "source": [
    "### Какова мода среди всех стран?"
   ]
  },
  {
   "cell_type": "code",
   "execution_count": 4,
   "id": "c8a4db6a",
   "metadata": {},
   "outputs": [
    {
     "name": "stdout",
     "output_type": "stream",
     "text": [
      "5.208\n"
     ]
    }
   ],
   "source": [
    "print(data['Score'].mode()[0])"
   ]
  },
  {
   "cell_type": "markdown",
   "id": "72905a18",
   "metadata": {},
   "source": [
    "### Каково стандартное отклонение среди всех стран?"
   ]
  },
  {
   "cell_type": "code",
   "execution_count": 5,
   "id": "c891bcef",
   "metadata": {},
   "outputs": [
    {
     "name": "stdout",
     "output_type": "stream",
     "text": [
      "1.1131198687956712\n"
     ]
    }
   ],
   "source": [
    "print(data['Score'].std())"
   ]
  },
  {
   "cell_type": "markdown",
   "id": "df947e53",
   "metadata": {},
   "source": [
    "### Найдите десять самых счастливых стран\n",
    "\n",
    "Отсортируйте наблюдения по уровню счастья, затем выберите единственную колонку с названиями регионов, а потом выведите первые 10 наблюдений.\n",
    "\n",
    "Формат вывода\n",
    "['Country', 'Country'...]"
   ]
  },
  {
   "cell_type": "code",
   "execution_count": 6,
   "id": "80e9b7bd",
   "metadata": {},
   "outputs": [
    {
     "name": "stdout",
     "output_type": "stream",
     "text": [
      "['Finland', 'Denmark', 'Norway', 'Iceland', 'Netherlands', 'Switzerland', 'Sweden', 'New Zealand', 'Canada', 'Austria']\n"
     ]
    }
   ],
   "source": [
    "data = data.sort_values(by='Score', ascending=False)\n",
    "\n",
    "print(list(data['Country or region'][0:10]))"
   ]
  },
  {
   "cell_type": "markdown",
   "id": "79993a63",
   "metadata": {},
   "source": [
    "### Подсчитайте суммарный ВВП всех стран."
   ]
  },
  {
   "cell_type": "code",
   "execution_count": 7,
   "id": "15adf8a5",
   "metadata": {},
   "outputs": [
    {
     "name": "stdout",
     "output_type": "stream",
     "text": [
      "141.203\n"
     ]
    }
   ],
   "source": [
    "print(data['GDP per capita'].sum())"
   ]
  },
  {
   "cell_type": "markdown",
   "id": "1fc19461",
   "metadata": {},
   "source": [
    "### Подсчитайте суммарный ВВП первых десяти стран."
   ]
  },
  {
   "cell_type": "code",
   "execution_count": 8,
   "id": "66f83a93",
   "metadata": {},
   "outputs": [
    {
     "name": "stdout",
     "output_type": "stream",
     "text": [
      "13.87\n"
     ]
    }
   ],
   "source": [
    "print(data['GDP per capita'][0:10].sum())"
   ]
  }
 ],
 "metadata": {
  "kernelspec": {
   "display_name": "Python 3 (ipykernel)",
   "language": "python",
   "name": "python3"
  },
  "language_info": {
   "codemirror_mode": {
    "name": "ipython",
    "version": 3
   },
   "file_extension": ".py",
   "mimetype": "text/x-python",
   "name": "python",
   "nbconvert_exporter": "python",
   "pygments_lexer": "ipython3",
   "version": "3.9.13"
  }
 },
 "nbformat": 4,
 "nbformat_minor": 5
}
