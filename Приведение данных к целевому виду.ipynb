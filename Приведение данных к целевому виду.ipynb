{
 "cells": [
  {
   "cell_type": "markdown",
   "id": "f5b7e6de",
   "metadata": {},
   "source": [
    "### 1\n",
    "В предыдущих главах мы работали с данными без их предварительной очистки.\n",
    "\n",
    "В этой и следующих задачах мы используем набор данных с фильмами и сериалами компании Disney. CSV файл доступен под названием 'disney_title.csv'. Ознакомиться более подробно с датасетом можно по следующей ссылке: https://www.kaggle.com/datasets/shivamb/disney-movies-and-tv-shows.\n",
    "\n",
    "В этой задаче выведите информацию о датасете, используя функцию .info()"
   ]
  },
  {
   "cell_type": "code",
   "execution_count": 1,
   "id": "213fb659",
   "metadata": {},
   "outputs": [],
   "source": [
    "import pandas as pd"
   ]
  },
  {
   "cell_type": "code",
   "execution_count": 2,
   "id": "2c0632f9",
   "metadata": {},
   "outputs": [
    {
     "data": {
      "text/html": [
       "<div>\n",
       "<style scoped>\n",
       "    .dataframe tbody tr th:only-of-type {\n",
       "        vertical-align: middle;\n",
       "    }\n",
       "\n",
       "    .dataframe tbody tr th {\n",
       "        vertical-align: top;\n",
       "    }\n",
       "\n",
       "    .dataframe thead th {\n",
       "        text-align: right;\n",
       "    }\n",
       "</style>\n",
       "<table border=\"1\" class=\"dataframe\">\n",
       "  <thead>\n",
       "    <tr style=\"text-align: right;\">\n",
       "      <th></th>\n",
       "      <th>type</th>\n",
       "      <th>title</th>\n",
       "      <th>director</th>\n",
       "      <th>cast</th>\n",
       "      <th>country</th>\n",
       "      <th>release_year</th>\n",
       "      <th>rating</th>\n",
       "      <th>duration</th>\n",
       "      <th>listed_in</th>\n",
       "      <th>description</th>\n",
       "      <th>Date</th>\n",
       "    </tr>\n",
       "  </thead>\n",
       "  <tbody>\n",
       "    <tr>\n",
       "      <th>0</th>\n",
       "      <td>Movie</td>\n",
       "      <td>Duck the Halls: A Mickey Mouse Christmas Special</td>\n",
       "      <td>Alonso Ramirez Ramos, Dave Wasson</td>\n",
       "      <td>Chris Diamantopoulos, Tony Anselmo, Tress MacN...</td>\n",
       "      <td>NaN</td>\n",
       "      <td>2016</td>\n",
       "      <td>TV-G</td>\n",
       "      <td>23 min</td>\n",
       "      <td>Animation, Family</td>\n",
       "      <td>Join Mickey and the gang as they duck the halls!</td>\n",
       "      <td>2021-11-26</td>\n",
       "    </tr>\n",
       "    <tr>\n",
       "      <th>1</th>\n",
       "      <td>Movie</td>\n",
       "      <td>Ernest Saves Christmas</td>\n",
       "      <td>John Cherry</td>\n",
       "      <td>Jim Varney, Noelle Parker, Douglas Seale</td>\n",
       "      <td>NaN</td>\n",
       "      <td>1988</td>\n",
       "      <td>PG</td>\n",
       "      <td>91 min</td>\n",
       "      <td>Comedy</td>\n",
       "      <td>Santa Claus passes his magic bag to a new St. ...</td>\n",
       "      <td>2021-11-26</td>\n",
       "    </tr>\n",
       "    <tr>\n",
       "      <th>2</th>\n",
       "      <td>Movie</td>\n",
       "      <td>Ice Age: A Mammoth Christmas</td>\n",
       "      <td>Karen Disher</td>\n",
       "      <td>Raymond Albert Romano, John Leguizamo, Denis L...</td>\n",
       "      <td>United States</td>\n",
       "      <td>2011</td>\n",
       "      <td>TV-G</td>\n",
       "      <td>23 min</td>\n",
       "      <td>Animation, Comedy, Family</td>\n",
       "      <td>Sid the Sloth is on Santa's naughty list.</td>\n",
       "      <td>2021-11-26</td>\n",
       "    </tr>\n",
       "    <tr>\n",
       "      <th>3</th>\n",
       "      <td>Movie</td>\n",
       "      <td>The Queen Family Singalong</td>\n",
       "      <td>Hamish Hamilton</td>\n",
       "      <td>Darren Criss, Adam Lambert, Derek Hough, Alexa...</td>\n",
       "      <td>NaN</td>\n",
       "      <td>2021</td>\n",
       "      <td>TV-PG</td>\n",
       "      <td>41 min</td>\n",
       "      <td>Musical</td>\n",
       "      <td>This is real life, not just fantasy!</td>\n",
       "      <td>2021-11-26</td>\n",
       "    </tr>\n",
       "    <tr>\n",
       "      <th>4</th>\n",
       "      <td>TV Show</td>\n",
       "      <td>The Beatles: Get Back</td>\n",
       "      <td>NaN</td>\n",
       "      <td>John Lennon, Paul McCartney, George Harrison, ...</td>\n",
       "      <td>NaN</td>\n",
       "      <td>2021</td>\n",
       "      <td>NaN</td>\n",
       "      <td>1 Season</td>\n",
       "      <td>Docuseries, Historical, Music</td>\n",
       "      <td>A three-part documentary from Peter Jackson ca...</td>\n",
       "      <td>2021-11-25</td>\n",
       "    </tr>\n",
       "  </tbody>\n",
       "</table>\n",
       "</div>"
      ],
      "text/plain": [
       "      type                                             title  \\\n",
       "0    Movie  Duck the Halls: A Mickey Mouse Christmas Special   \n",
       "1    Movie                            Ernest Saves Christmas   \n",
       "2    Movie                      Ice Age: A Mammoth Christmas   \n",
       "3    Movie                        The Queen Family Singalong   \n",
       "4  TV Show                             The Beatles: Get Back   \n",
       "\n",
       "                            director  \\\n",
       "0  Alonso Ramirez Ramos, Dave Wasson   \n",
       "1                        John Cherry   \n",
       "2                       Karen Disher   \n",
       "3                    Hamish Hamilton   \n",
       "4                                NaN   \n",
       "\n",
       "                                                cast        country  \\\n",
       "0  Chris Diamantopoulos, Tony Anselmo, Tress MacN...            NaN   \n",
       "1           Jim Varney, Noelle Parker, Douglas Seale            NaN   \n",
       "2  Raymond Albert Romano, John Leguizamo, Denis L...  United States   \n",
       "3  Darren Criss, Adam Lambert, Derek Hough, Alexa...            NaN   \n",
       "4  John Lennon, Paul McCartney, George Harrison, ...            NaN   \n",
       "\n",
       "   release_year rating  duration                      listed_in  \\\n",
       "0          2016   TV-G    23 min              Animation, Family   \n",
       "1          1988     PG    91 min                         Comedy   \n",
       "2          2011   TV-G    23 min      Animation, Comedy, Family   \n",
       "3          2021  TV-PG    41 min                        Musical   \n",
       "4          2021    NaN  1 Season  Docuseries, Historical, Music   \n",
       "\n",
       "                                         description        Date  \n",
       "0   Join Mickey and the gang as they duck the halls!  2021-11-26  \n",
       "1  Santa Claus passes his magic bag to a new St. ...  2021-11-26  \n",
       "2          Sid the Sloth is on Santa's naughty list.  2021-11-26  \n",
       "3               This is real life, not just fantasy!  2021-11-26  \n",
       "4  A three-part documentary from Peter Jackson ca...  2021-11-25  "
      ]
     },
     "execution_count": 2,
     "metadata": {},
     "output_type": "execute_result"
    }
   ],
   "source": [
    "data = pd.read_csv('disney_title.csv')\n",
    "data.head(5)"
   ]
  },
  {
   "cell_type": "code",
   "execution_count": 3,
   "id": "0f813496",
   "metadata": {},
   "outputs": [
    {
     "name": "stdout",
     "output_type": "stream",
     "text": [
      "<class 'pandas.core.frame.DataFrame'>\n",
      "RangeIndex: 1450 entries, 0 to 1449\n",
      "Data columns (total 11 columns):\n",
      " #   Column        Non-Null Count  Dtype \n",
      "---  ------        --------------  ----- \n",
      " 0   type          1450 non-null   object\n",
      " 1   title         1450 non-null   object\n",
      " 2   director      977 non-null    object\n",
      " 3   cast          1260 non-null   object\n",
      " 4   country       1231 non-null   object\n",
      " 5   release_year  1450 non-null   int64 \n",
      " 6   rating        1447 non-null   object\n",
      " 7   duration      1450 non-null   object\n",
      " 8   listed_in     1450 non-null   object\n",
      " 9   description   1450 non-null   object\n",
      " 10  Date          1447 non-null   object\n",
      "dtypes: int64(1), object(10)\n",
      "memory usage: 124.7+ KB\n"
     ]
    }
   ],
   "source": [
    "data.info()"
   ]
  },
  {
   "cell_type": "markdown",
   "id": "279e311d",
   "metadata": {},
   "source": [
    "### 2\n",
    "В предыдущем задании мы обнаружили, что переменная Date из датасета по фильмам и сериалам компании Disney имеет тип object. В этом задании мы поменяем тип переменной с object на datetime с помощью функции pd.to_datetime(). В выводе распечатайте тип столбца ['Date'] с помощью .dtype"
   ]
  },
  {
   "cell_type": "code",
   "execution_count": 4,
   "id": "09d5d52f",
   "metadata": {},
   "outputs": [
    {
     "name": "stdout",
     "output_type": "stream",
     "text": [
      "datetime64[ns]\n"
     ]
    }
   ],
   "source": [
    "data['Date'] = pd.to_datetime(data['Date'])\n",
    "print(data['Date'].dtype)"
   ]
  },
  {
   "cell_type": "markdown",
   "id": "65a47371",
   "metadata": {},
   "source": [
    "### 3\n",
    "Отфильтруйте все фильмы и сериалы, которые выходили с 1 января 2020 года по 1 января 2021 года. В результате выведите переменную с названиями десяти первых фильмов после фильтрации, с помощью функции head()."
   ]
  },
  {
   "cell_type": "code",
   "execution_count": 5,
   "id": "8790e3a1",
   "metadata": {},
   "outputs": [],
   "source": [
    "films_2020 = data[(data['Date'] >= '2020-01-01')&(data['Date'] <= '2021-01-01')].sort_values(by='Date')"
   ]
  },
  {
   "cell_type": "code",
   "execution_count": 6,
   "id": "58f56b53",
   "metadata": {},
   "outputs": [
    {
     "data": {
      "text/plain": [
       "652                      Cars Toon: Time Travel Mater\n",
       "646                                     Austin & Ally\n",
       "647    Billy Dilley's Super-Duper Subterranean Summer\n",
       "648                            Cars Toon: El Materdor\n",
       "649                             Cars Toon: Moon Mater\n",
       "650                     Cars Toon: Rescue Squad Mater\n",
       "651                               Cars Toon: Spinning\n",
       "653                            Cars Toon: Tokyo Mater\n",
       "654              Cars Toon: Unidentified Flying Mater\n",
       "655                                Cars Toons: Bugged\n",
       "Name: title, dtype: object"
      ]
     },
     "execution_count": 6,
     "metadata": {},
     "output_type": "execute_result"
    }
   ],
   "source": [
    "films_2020['title'].head(10)"
   ]
  },
  {
   "cell_type": "markdown",
   "id": "28b5f75e",
   "metadata": {},
   "source": [
    "### 4\n",
    "Вам необходимо удалить столбец из датасета 'release_year' и вывести название оставшихся столбцов с помощью функции list()."
   ]
  },
  {
   "cell_type": "code",
   "execution_count": 7,
   "id": "1d38cd97",
   "metadata": {},
   "outputs": [],
   "source": [
    "data.drop('release_year', axis=1, inplace=True)"
   ]
  },
  {
   "cell_type": "code",
   "execution_count": 8,
   "id": "dfd0e000",
   "metadata": {},
   "outputs": [
    {
     "name": "stdout",
     "output_type": "stream",
     "text": [
      "['type', 'title', 'director', 'cast', 'country', 'rating', 'duration', 'listed_in', 'description', 'Date']\n"
     ]
    }
   ],
   "source": [
    "print(list(data.columns))"
   ]
  },
  {
   "cell_type": "markdown",
   "id": "a10eacf0",
   "metadata": {},
   "source": [
    "### 5\n",
    " В этом задании вам необходимо поменять название переменных из 'disney_title.csv' на такие же названия написанные с большой буквы. В результате выведите названия стобцов с помощью функции list()"
   ]
  },
  {
   "cell_type": "code",
   "execution_count": 9,
   "id": "dec73e8b",
   "metadata": {},
   "outputs": [],
   "source": [
    "new_columns = []"
   ]
  },
  {
   "cell_type": "code",
   "execution_count": 10,
   "id": "a0b38ada",
   "metadata": {},
   "outputs": [],
   "source": [
    "for column in data.columns:\n",
    "    column = column.capitalize()\n",
    "    new_columns.append(column)"
   ]
  },
  {
   "cell_type": "code",
   "execution_count": 11,
   "id": "1d70787a",
   "metadata": {},
   "outputs": [],
   "source": [
    "data.columns = new_columns"
   ]
  },
  {
   "cell_type": "code",
   "execution_count": 12,
   "id": "a5445188",
   "metadata": {},
   "outputs": [
    {
     "name": "stdout",
     "output_type": "stream",
     "text": [
      "['Type', 'Title', 'Director', 'Cast', 'Country', 'Rating', 'Duration', 'Listed_in', 'Description', 'Date']\n"
     ]
    }
   ],
   "source": [
    "print(list(data.columns))"
   ]
  },
  {
   "cell_type": "markdown",
   "id": "a5988cf5",
   "metadata": {},
   "source": [
    "### 6\n",
    "В этом задании вам необходимо заменить \"&\" на \",\" в столбце \"listed_in\", сохранить результат в новую переменную вывести последнии пять значений в новой переменной с помощью функции 'tail()'."
   ]
  },
  {
   "cell_type": "code",
   "execution_count": 13,
   "id": "e0db9689",
   "metadata": {},
   "outputs": [
    {
     "name": "stdout",
     "output_type": "stream",
     "text": [
      "1445        Action-Adventure, Family, Science Fiction\n",
      "1446                 Action-Adventure, Comedy, Family\n",
      "1447                      Biographical, Comedy, Drama\n",
      "1448                     Buddy, Comedy, Coming of Age\n",
      "1449    Action-Adventure, Animals , Nature, Animation\n",
      "Name: Listed_in, dtype: object\n"
     ]
    }
   ],
   "source": [
    "data['Listed_in'] = data['Listed_in'].str.replace('&', ',')\n",
    "print(data['Listed_in'].tail())"
   ]
  },
  {
   "cell_type": "markdown",
   "id": "aaeb8207",
   "metadata": {},
   "source": [
    "### 7\n",
    "В этой задаче требуется вывести количество пропущенных значений по каждому стобцу."
   ]
  },
  {
   "cell_type": "code",
   "execution_count": 14,
   "id": "f8cc2f2a",
   "metadata": {},
   "outputs": [
    {
     "name": "stdout",
     "output_type": "stream",
     "text": [
      "Type             0\n",
      "Title            0\n",
      "Director       473\n",
      "Cast           190\n",
      "Country        219\n",
      "Rating           3\n",
      "Duration         0\n",
      "Listed_in        0\n",
      "Description      0\n",
      "Date             3\n",
      "dtype: int64\n"
     ]
    }
   ],
   "source": [
    "print(data.isna().sum())"
   ]
  },
  {
   "cell_type": "markdown",
   "id": "4ece2502",
   "metadata": {},
   "source": [
    "### 8\n",
    "По результатам седьмого задания мы выяснили, что небольшое количество пропущенных значений (по три) находятся в столбцах 'rating' и 'Date'. Воспользуйтесь функцией 'dropna()' для удаление пропущенных значений во всех столбцах. В результате выведите количество пропущенных переменных по каждому столбцу в вашем датасете."
   ]
  },
  {
   "cell_type": "code",
   "execution_count": 15,
   "id": "933578b9",
   "metadata": {},
   "outputs": [
    {
     "name": "stdout",
     "output_type": "stream",
     "text": [
      "Type           0\n",
      "Title          0\n",
      "Director       0\n",
      "Cast           0\n",
      "Country        0\n",
      "Rating         0\n",
      "Duration       0\n",
      "Listed_in      0\n",
      "Description    0\n",
      "Date           0\n",
      "dtype: int64\n"
     ]
    }
   ],
   "source": [
    "drop_data = data.dropna()\n",
    "print(drop_data.isna().sum())"
   ]
  },
  {
   "cell_type": "markdown",
   "id": "0242b614",
   "metadata": {},
   "source": [
    "### 9\n",
    "Выведите процент пропущенных значений относительного всех значений. Результат округлите до сотых с помощью функции \"round()\"."
   ]
  },
  {
   "cell_type": "code",
   "execution_count": 16,
   "id": "64bcda63",
   "metadata": {},
   "outputs": [
    {
     "name": "stdout",
     "output_type": "stream",
     "text": [
      "Type            0.00\n",
      "Title           0.00\n",
      "Director       32.62\n",
      "Cast           13.10\n",
      "Country        15.10\n",
      "Rating          0.21\n",
      "Duration        0.00\n",
      "Listed_in       0.00\n",
      "Description     0.00\n",
      "Date            0.21\n",
      "dtype: float64\n"
     ]
    }
   ],
   "source": [
    "print(round(data.isna().mean()*100, 2))"
   ]
  },
  {
   "cell_type": "markdown",
   "id": "b24db543",
   "metadata": {},
   "source": [
    "### 10\n",
    "Из предыдущего задания мы выяснили, что наибольшие проценты пропущенных значений в CSV файле 'disney_title.csv' находятся в стобцах director (32.62%), cast (13.10%) и country (15.10%). В этом задании заменить пропущенные значения в стобце 'country' на 'Country not specified' с помощью функции 'fillna'. Выведите первые пять первых значений переменной 'country'."
   ]
  },
  {
   "cell_type": "code",
   "execution_count": 17,
   "id": "a9e14afe",
   "metadata": {},
   "outputs": [
    {
     "data": {
      "text/plain": [
       "0    Country not specified\n",
       "1    Country not specified\n",
       "2            United States\n",
       "3    Country not specified\n",
       "4    Country not specified\n",
       "Name: Country, dtype: object"
      ]
     },
     "execution_count": 17,
     "metadata": {},
     "output_type": "execute_result"
    }
   ],
   "source": [
    "data['Country'] = data['Country'].fillna('Country not specified')\n",
    "data['Country'].head()"
   ]
  }
 ],
 "metadata": {
  "kernelspec": {
   "display_name": "Python 3 (ipykernel)",
   "language": "python",
   "name": "python3"
  },
  "language_info": {
   "codemirror_mode": {
    "name": "ipython",
    "version": 3
   },
   "file_extension": ".py",
   "mimetype": "text/x-python",
   "name": "python",
   "nbconvert_exporter": "python",
   "pygments_lexer": "ipython3",
   "version": "3.9.13"
  }
 },
 "nbformat": 4,
 "nbformat_minor": 5
}
